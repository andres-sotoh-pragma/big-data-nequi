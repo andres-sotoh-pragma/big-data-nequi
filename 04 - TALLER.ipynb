{
 "cells": [
  {
   "cell_type": "markdown",
   "metadata": {},
   "source": [
    "## **Dataset con información bancaria**"
   ]
  },
  {
   "cell_type": "markdown",
   "metadata": {},
   "source": [
    "En la carpeta **/local/data** se encuetra un dataset ficticio con información personal y bancaria de un grupo de clientes. Utilizando los conceptos aprendidos debe responder a las siguientes preguntas usando Spark y el lenguaje de programación python:\n",
    "\n",
    "El dataset fue tomado a partir de:\n",
    "\n",
    "https://archive.ics.uci.edu/dataset/222/bank+marketing\n",
    "https://www.kaggle.com/code/vsramaraj/machine-learning-with-bank-data-using-apache-spark/input\n",
    "\n",
    "| Nombre del Atributo | Descripción | Tipo de Dato |\n",
    "|---|---|---|\n",
    "| Edad | Edad del cliente | Numérico |\n",
    "| Trabajo | Tipo de trabajo del cliente | Categórico (\"administrador\", \"desconocido\", \"desempleado\", \"gerencia\", \"doméstica\", \"emprendedor\", \"estudiante\", \"obrero\", \"autónomo\", \"jubilado\", \"técnico\", \"servicios\") |\n",
    "| Estado civil | Estado civil del cliente | Categórico (\"casado\", \"divorciado\", \"soltero\"; \"divorciado\" incluye divorciado o viudo) |\n",
    "| Educación | Nivel educativo del cliente | Categórico (\"desconocido\", \"secundaria\", \"primaria\", \"terciaria\") |\n",
    "| Morosidad | ¿Tiene crédito moroso? | Binario (\"sí\", \"no\") |\n",
    "| Saldo | Saldo anual promedio, en euros | Numérico |\n",
    "| Vivienda | ¿Tiene préstamo hipotecario? | Binario (\"sí\", \"no\") |\n",
    "| Préstamo | ¿Tiene préstamo personal? | Binario (\"sí\", \"no\") |\n",
    "\n",
    "## Atributos relacionados con el último contacto de la campaña actual:\n",
    "\n",
    "| Nombre del Atributo | Descripción | Tipo de Dato |\n",
    "|---|---|---|\n",
    "| Contacto | Tipo de comunicación de contacto | Categórico (\"desconocido\", \"teléfono\", \"celular\") |\n",
    "| Día | Día del último contacto del mes | Numérico |\n",
    "| Mes | Mes del último contacto del año | Categórico (\"ene\", \"feb\", \"mar\", ..., \"nov\", \"dic\") |\n",
    "| Duración | Duración del último contacto, en segundos | Numérico |\n",
    "\n",
    "## Otros atributos:\n",
    "\n",
    "| Nombre del Atributo | Descripción | Tipo de Dato |\n",
    "|---|---|---|\n",
    "| Campaña | Número de contactos realizados durante esta campaña y para este cliente (incluye el último contacto) | Numérico |\n",
    "| Días sin contacto | Número de días que pasaron desde la última vez que se contactó al cliente desde una campaña anterior (numeric, -1 significa que no se contactó previamente al cliente) | Numérico |\n",
    "| Contactos previos | Número de contactos realizados antes de esta campaña y para este cliente | Numérico |\n",
    "| Resultado anterior | Resultado de la campaña de marketing anterior | Categórico (\"desconocido\", \"otro\", \"falla\", \"éxito\") |"
   ]
  },
  {
   "cell_type": "markdown",
   "metadata": {},
   "source": [
    "## Preguntas"
   ]
  },
  {
   "cell_type": "markdown",
   "metadata": {},
   "source": [
    "1. Realice la lectura del dataset como un Dataframe de Spark.\n",
    "\n",
    "2. Identifique alguna información básica del dataset como el esquema, los tipos de datos de cada campo y la cantidad total de registros.\n",
    "\n",
    "3. Para las variables de tipo numérico realice un resumen para encontrar la media, desviación estándar, máximo y mínimo.\n",
    "\n",
    "4. Para las variables categóricas realice un recuento de cada una de las categorías para cada variable.\n",
    "\n",
    "5. Realice un filtro en los datos para identificar cuales son los clientes que tienen mas de 40 años y un balance en sus cuentas de mas de 50 mil dólares. Imprima los resultados.\n",
    "\n",
    "6. Cree una nueva columna que indique el grupo de edad de los clientes (Ejemplo los menores a 20 son jovenes, entre 20 y 40 adultos, mayores a 40 mayores).\n",
    "\n",
    "7. Cree una nueva columna convirtiendo el balance de la cuenta a miles de dólares e imprima el grupo de edad, y el balance en miles.\n",
    "\n",
    "8. Realice un resumen indicando la cantidad de clientes según su estado civil.\n",
    "\n",
    "9. Usando unja consulta SQL identifique los clientes con el mayor balance en sus cuentas agrupado por grupo de edad.\n",
    "\n",
    "10. Alamcene el dataframe en formato parquet."
   ]
  },
  {
   "cell_type": "markdown",
   "metadata": {},
   "source": [
    "## Referencias"
   ]
  },
  {
   "cell_type": "markdown",
   "metadata": {},
   "source": [
    "Citation Request:\n",
    "  This dataset is public available for research. The details are described in [Moro et al., 2011]. \n",
    "  Please include this citation if you plan to use this database:\n",
    "\n",
    "  [Moro et al., 2011] S. Moro, R. Laureano and P. Cortez. Using Data Mining for Bank Direct Marketing: An Application of the CRISP-DM Methodology. \n",
    "  In P. Novais et al. (Eds.), Proceedings of the European Simulation and Modelling Conference - ESM'2011, pp. 117-121, Guimarães, Portugal, October, 2011. EUROSIS.\n",
    "\n",
    "  Available at: [pdf] http://hdl.handle.net/1822/14838\n",
    "                [bib] http://www3.dsi.uminho.pt/pcortez/bib/2011-esm-1.txt\n",
    "\n",
    "1. Title: Bank Marketing\n",
    "\n",
    "2. Sources\n",
    "   Created by: Paulo Cortez (Univ. Minho) and Sérgio Moro (ISCTE-IUL) @ 2012\n",
    "   \n",
    "3. Past Usage:\n",
    "\n",
    "  The full dataset was described and analyzed in:\n",
    "\n",
    "  S. Moro, R. Laureano and P. Cortez. Using Data Mining for Bank Direct Marketing: An Application of the CRISP-DM Methodology. \n",
    "  In P. Novais et al. (Eds.), Proceedings of the European Simulation and Modelling Conference - ESM'2011, pp. 117-121, Guimarães, \n",
    "  Portugal, October, 2011. EUROSIS.\n"
   ]
  },
  {
   "cell_type": "markdown",
   "metadata": {},
   "source": []
  }
 ],
 "metadata": {
  "language_info": {
   "name": "python"
  }
 },
 "nbformat": 4,
 "nbformat_minor": 2
}
